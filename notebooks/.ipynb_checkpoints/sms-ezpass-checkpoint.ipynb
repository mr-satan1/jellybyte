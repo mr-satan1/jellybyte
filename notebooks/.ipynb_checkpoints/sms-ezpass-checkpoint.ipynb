{
 "cells": [
  {
   "cell_type": "code",
   "execution_count": 1,
   "id": "05504aae-7750-475f-9a2a-616d407a6c06",
   "metadata": {},
   "outputs": [],
   "source": [
    "from ollama import Client\n",
    "import requests"
   ]
  },
  {
   "cell_type": "code",
   "execution_count": 2,
   "id": "77e1199f-2056-478a-b0fa-1179c144ef39",
   "metadata": {},
   "outputs": [],
   "source": [
    "client = Client(host='http://host.docker.internal:11434')"
   ]
  },
  {
   "cell_type": "code",
   "execution_count": null,
   "id": "c47bedfa-ec94-4f7a-b9fb-81f34c4b4423",
   "metadata": {},
   "outputs": [],
   "source": [
    "# URL https://e-zpassny.com-tollsrk.xin/\n",
    "# https://e-zpassny.com-tollsrk.xin/pay/#"
   ]
  }
 ],
 "metadata": {
  "kernelspec": {
   "display_name": "Python 3 (ipykernel)",
   "language": "python",
   "name": "python3"
  },
  "language_info": {
   "codemirror_mode": {
    "name": "ipython",
    "version": 3
   },
   "file_extension": ".py",
   "mimetype": "text/x-python",
   "name": "python",
   "nbconvert_exporter": "python",
   "pygments_lexer": "ipython3",
   "version": "3.11.6"
  }
 },
 "nbformat": 4,
 "nbformat_minor": 5
}
