{
 "cells": [
  {
   "cell_type": "code",
   "execution_count": 1,
   "id": "d7cb61f0",
   "metadata": {},
   "outputs": [],
   "source": [
    "from ollama import Client"
   ]
  },
  {
   "cell_type": "code",
   "execution_count": 2,
   "id": "1a65b3e3",
   "metadata": {},
   "outputs": [],
   "source": [
    "client = Client(host='http://host.docker.internal:11434')"
   ]
  },
  {
   "cell_type": "code",
   "execution_count": 3,
   "id": "eb29547d",
   "metadata": {},
   "outputs": [],
   "source": [
    "prompt = \"tell me a joke about bee's\""
   ]
  },
  {
   "cell_type": "code",
   "execution_count": 4,
   "id": "e94a53ac",
   "metadata": {},
   "outputs": [],
   "source": [
    "reply = client.generate(model='llama3.2', prompt=prompt)"
   ]
  },
  {
   "cell_type": "code",
   "execution_count": 5,
   "id": "557a1fe1",
   "metadata": {},
   "outputs": [
    {
     "name": "stdout",
     "output_type": "stream",
     "text": [
      "Why did the bee go to the doctor?\n",
      "\n",
      "Because it was feeling a little \"buzzed\"! (get it?)\n"
     ]
    }
   ],
   "source": [
    "print(reply.response)"
   ]
  },
  {
   "cell_type": "code",
   "execution_count": null,
   "id": "d8b84cd6-86f7-4630-8022-ea909b3746b7",
   "metadata": {},
   "outputs": [],
   "source": []
  }
 ],
 "metadata": {
  "kernelspec": {
   "display_name": "Python 3 (ipykernel)",
   "language": "python",
   "name": "python3"
  },
  "language_info": {
   "codemirror_mode": {
    "name": "ipython",
    "version": 3
   },
   "file_extension": ".py",
   "mimetype": "text/x-python",
   "name": "python",
   "nbconvert_exporter": "python",
   "pygments_lexer": "ipython3",
   "version": "3.11.6"
  }
 },
 "nbformat": 4,
 "nbformat_minor": 5
}
